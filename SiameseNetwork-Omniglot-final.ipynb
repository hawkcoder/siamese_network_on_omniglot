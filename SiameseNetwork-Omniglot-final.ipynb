{
 "cells": [
  {
   "cell_type": "code",
   "execution_count": 1,
   "metadata": {},
   "outputs": [],
   "source": [
    "import os\n",
    "import numpy as np\n",
    "import pickle"
   ]
  },
  {
   "cell_type": "code",
   "execution_count": 2,
   "metadata": {},
   "outputs": [],
   "source": [
    "from __future__ import print_function\n",
    "import mxnet as mx\n",
    "from mxnet import nd, autograd\n",
    "from mxnet import gluon\n",
    "mx.random.seed(1)"
   ]
  },
  {
   "cell_type": "code",
   "execution_count": 3,
   "metadata": {},
   "outputs": [],
   "source": [
    "%matplotlib inline\n",
    "import matplotlib.pyplot as plt"
   ]
  },
  {
   "cell_type": "code",
   "execution_count": 4,
   "metadata": {},
   "outputs": [],
   "source": [
    "root_path = os.getcwd()"
   ]
  },
  {
   "cell_type": "markdown",
   "metadata": {},
   "source": [
    "## 1. Prepare Dataset"
   ]
  },
  {
   "cell_type": "markdown",
   "metadata": {},
   "source": [
    "### 1.1 Build Self-defined Iterator"
   ]
  },
  {
   "cell_type": "code",
   "execution_count": 5,
   "metadata": {},
   "outputs": [],
   "source": [
    "train_data = os.path.join(root_path, \"omniglot\", \"train.pickle\")\n",
    "val_data = os.path.join(root_path, \"omniglot\", \"val.pickle\")"
   ]
  },
  {
   "cell_type": "code",
   "execution_count": 6,
   "metadata": {},
   "outputs": [],
   "source": [
    "class Data_Loader:\n",
    "    \"\"\"\n",
    "    batch: (batch_size, channel, height, width)\n",
    "    \"\"\"\n",
    "    def __init__(self, path):\n",
    "        self.data = {}\n",
    "        self.chars = {}\n",
    "        self.n_chars = {}\n",
    "        self.h = 105\n",
    "        self.w = 105\n",
    "        self.n_images = 20\n",
    "        with open(os.path.join(path,\"train.pickle\"),\"r\") as f:\n",
    "            (tr_imgs, tr_char) = pickle.load(f)\n",
    "            self.data['train'] = tr_imgs\n",
    "            self.chars[\"train\"] = tr_char\n",
    "            self.n_chars[\"train\"] = len(tr_char.keys())\n",
    "            \n",
    "        with open(os.path.join(path,\"val.pickle\"),\"r\") as f:\n",
    "            (va_imgs, va_char) = pickle.load(f)\n",
    "            self.data['val'] = va_imgs\n",
    "            self.chars[\"val\"] = va_char\n",
    "            self.n_chars[\"val\"] = len(va_char.keys())\n",
    "                       \n",
    "    def get_batch(self, batch_size, case=\"train\"):\n",
    "        \"\"\"\n",
    "        return #batch_size pairs and corresponding labels\n",
    "        \"\"\"\n",
    "        cur_data = self.data[case]\n",
    "        cur_chars = self.chars[case]        \n",
    "        cur_labels = cur_chars.keys()\n",
    "        \n",
    "        img0 = mx.nd.empty([batch_size, 1, self.h, self.w])\n",
    "        img1 = mx.nd.empty([batch_size, 1, self.h, self.w])\n",
    "        tmp = mx.nd.uniform(low=0, high=1, shape=(batch_size,))        \n",
    "        targets = mx.nd.rint(tmp)\n",
    "        \n",
    "        for i in range(batch_size):\n",
    "            if targets[i].asscalar() != 1:\n",
    "                # pairs are different chars\n",
    "                labels = np.random.choice(cur_labels, size=2, replace=False)\n",
    "                idxes = np.random.choice(self.n_images, size=2)\n",
    "                img0[i, 0, :, :] = cur_data[labels[0]][idxes[0]].T\n",
    "                img1[i, 0, :, :] = cur_data[labels[1]][idxes[1]].T               \n",
    "            else:\n",
    "                # pairs are from same char\n",
    "                label = np.random.choice(cur_labels)\n",
    "                idxes = np.random.choice(self.n_images, size=2, replace=False)\n",
    "                img0[i, 0, :, :] = cur_data[label][idxes[0]].T\n",
    "                img1[i, 0, :, :] = cur_data[label][idxes[1]].T\n",
    "                \n",
    "        return img0, img1, targets\n",
    "    \n",
    "    def get_test_batch(self, support_size, case=\"val\", gt=None):\n",
    "        \"\"\"\n",
    "        return pairs and corresponding labels\n",
    "        batch: (support_size, 1, height, width)\n",
    "        \"\"\"\n",
    "        cur_data = self.data[case]\n",
    "        cur_chars = self.chars[case]        \n",
    "        cur_labels = cur_chars.keys()\n",
    "        \n",
    "        img0 = mx.nd.empty([support_size, 1, self.h, self.w])\n",
    "        img1 = mx.nd.empty([support_size, 1, self.h, self.w])\n",
    "        targets = mx.nd.zeros((support_size,))\n",
    "        \n",
    "        labels = np.random.choice(cur_labels, size=support_size, replace=False)\n",
    "        \n",
    "        gt_idx = np.random.randint(support_size)\n",
    "        true_label = labels[gt_idx]\n",
    "        targets[gt_idx] = 1\n",
    "        \n",
    "        if gt:\n",
    "            true_label = gt\n",
    "            labels[gt_idx] = gt\n",
    "        \n",
    "        idxes = np.random.choice(self.n_images, size=support_size)\n",
    "        for i in range(support_size):\n",
    "            img0[i, 0, :, :] = cur_data[true_label][idxes[gt_idx]].T\n",
    "            img1[i, 0, :, :] = cur_data[labels[i]][idxes[i]].T\n",
    "                \n",
    "        return img0, img1, targets        \n",
    "        \n",
    "    \n",
    "    def evaluate_accuracy(self, net, eval_size, support_size, ctx, top_k=0, case=\"val\"):\n",
    "        \"\"\"\n",
    "        calculate accuracy over #eval_size test task, each task with a supporting set of #support_size\n",
    "        \"\"\"\n",
    "        n_correct = 0\n",
    "        n_correct_topk = 0\n",
    "        \n",
    "        for i in range(eval_size):\n",
    "            img0, img1, targets = self.get_test_batch(support_size, case)\n",
    "            img0 = img0.as_in_context(ctx)\n",
    "            img1 = img1.as_in_context(ctx)\n",
    "            targets = targets.as_in_context(ctx)\n",
    "            \n",
    "            score = net(img0, img1)\n",
    "            \n",
    "            targets_np = targets.asnumpy()\n",
    "            score_np = score.asnumpy().flatten()\n",
    "            true_idx = np.argmax(targets_np)\n",
    "            pred_idx = np.argmax(score_np)\n",
    "                                   \n",
    "            \n",
    "            if (targets[pred_idx]).asscalar() > 0:\n",
    "                n_correct += 1\n",
    "                n_correct_topk += 1\n",
    "            else:                \n",
    "                if top_k > 0:\n",
    "                    topk_inds = np.argpartition(score_np, -top_k)[-top_k:]\n",
    "                    if true_idx in topk_inds:\n",
    "                        n_correct_topk += 1            \n",
    "        \n",
    "        acc = 100.0 * (n_correct*1.0 / eval_size)\n",
    "        acc_topk = 100.0 * (n_correct_topk*1.0 / eval_size)\n",
    "        return acc, acc_topk"
   ]
  },
  {
   "cell_type": "code",
   "execution_count": 7,
   "metadata": {},
   "outputs": [],
   "source": [
    "pkl_path = os.path.join(root_path, \"omniglot\")\n",
    "loader = Data_Loader(pkl_path)"
   ]
  },
  {
   "cell_type": "code",
   "execution_count": 9,
   "metadata": {},
   "outputs": [],
   "source": [
    "# check one generated batch\n",
    "img0, img1, targets = loader.get_batch(batch_size=4)\n",
    "#img0, img1, targets = loader.get_test_batch(support_size=5)"
   ]
  },
  {
   "cell_type": "code",
   "execution_count": 10,
   "metadata": {},
   "outputs": [
    {
     "name": "stdout",
     "output_type": "stream",
     "text": [
      "\n",
      "[ 1.  0.  0.  1.]\n",
      "<NDArray 4 @cpu(0)>\n"
     ]
    },
    {
     "data": {
      "image/png": "[encoded data removed]",
      "text/plain": [
       "<matplotlib.figure.Figure at 0x7f52673098d0>"
      ]
     },
     "metadata": {},
     "output_type": "display_data"
    },
    {
     "data": {
      "image/png": "[encoded data removed]",
      "text/plain": [
       "<matplotlib.figure.Figure at 0x7f52671d2590>"
      ]
     },
     "metadata": {},
     "output_type": "display_data"
    },
    {
     "data": {
      "image/png": "[encoded data removed]",
      "text/plain": [
       "<matplotlib.figure.Figure at 0x7f5267775590>"
      ]
     },
     "metadata": {},
     "output_type": "display_data"
    },
    {
     "data": {
      "image/png": "[encoded data removed]",
      "text/plain": [
       "<matplotlib.figure.Figure at 0x7f5267141ed0>"
      ]
     },
     "metadata": {},
     "output_type": "display_data"
    }
   ],
   "source": [
    "print(targets)\n",
    "for j in range(4):\n",
    "    plt.subplot(1,2,1)\n",
    "    plt.imshow(img0[j,0,:,:].T.asnumpy(), cmap='gray'); \n",
    "    plt.subplot(1,2,2)\n",
    "    plt.imshow(img1[j,0,:,:].T.asnumpy(), cmap='gray'); \n",
    "    plt.show()"
   ]
  },
  {
   "cell_type": "markdown",
   "metadata": {},
   "source": [
    "## 2. Build Network"
   ]
  },
  {
   "cell_type": "code",
   "execution_count": 8,
   "metadata": {},
   "outputs": [],
   "source": [
    "input_shape = (105, 105, 1)\n",
    "num_fc = 4096\n",
    "num_outputs = 1"
   ]
  },
  {
   "cell_type": "code",
   "execution_count": 9,
   "metadata": {},
   "outputs": [],
   "source": [
    "class Siamese(gluon.Block):\n",
    "    def __init__(self, **kwargs):\n",
    "        super(Siamese, self).__init__(**kwargs)\n",
    "        # use name_scope to give child Blocks appropriate names.\n",
    "        # It also allows sharing Parameters between Blocks recursively.\n",
    "        with self.name_scope():\n",
    "            self.wing = gluon.nn.Sequential()\n",
    "            with self.wing.name_scope():\n",
    "                self.wing.add(gluon.nn.Conv2D(channels=64, kernel_size=10, activation='relu'))\n",
    "                self.wing.add(gluon.nn.MaxPool2D(pool_size=2, strides=2))\n",
    "                self.wing.add(gluon.nn.Conv2D(channels=128, kernel_size=7, activation='relu'))\n",
    "                self.wing.add(gluon.nn.MaxPool2D(pool_size=2, strides=2))\n",
    "                self.wing.add(gluon.nn.Conv2D(channels=128, kernel_size=4, activation='relu'))\n",
    "                self.wing.add(gluon.nn.MaxPool2D(pool_size=2, strides=2))\n",
    "                self.wing.add(gluon.nn.Conv2D(channels=256, kernel_size=4, activation='relu'))\n",
    "                # The Flatten layer collapses all axis, except the first one, into one axis.\n",
    "                self.wing.add(gluon.nn.Flatten())\n",
    "                self.wing.add(gluon.nn.Dense(4096, activation=\"sigmoid\"))\n",
    "            \n",
    "            self.fc = gluon.nn.Dense(1, activation=\"sigmoid\")\n",
    "\n",
    "    def forward(self, input0, input1):\n",
    "        out0 = self.wing(input0)\n",
    "        out1 = self.wing(input1)\n",
    "        dist = mx.ndarray.abs(out0 - out1)\n",
    "        score = self.fc(dist)\n",
    "        return score"
   ]
  },
  {
   "cell_type": "code",
   "execution_count": 10,
   "metadata": {},
   "outputs": [],
   "source": [
    "def count_params(params):\n",
    "    cnt = 0\n",
    "    for k in params.keys():\n",
    "        cur_size = params[k].shape\n",
    "        cur_cnt = reduce(lambda x,y: x*y, cur_size)\n",
    "        print(\"Params: {}: {}\".format(k, cur_cnt))\n",
    "        cnt += cur_cnt\n",
    "    return cnt"
   ]
  },
  {
   "cell_type": "markdown",
   "metadata": {},
   "source": [
    "## 3. Define Loss\n",
    "### Regularized Cross-Entropy\n",
    "\n",
    "\\begin{equation}\n",
    "L(x_1, x_2, t) = t* \\log({\\bf{p}} (x_1,x_2)) + (1-t)* \\log(1-{\\bf{p}}(x_1,x_2)) + \\lambda \\|w \\|_2\n",
    "\\end{equation}"
   ]
  },
  {
   "cell_type": "code",
   "execution_count": 11,
   "metadata": {},
   "outputs": [],
   "source": [
    "ce_loss = gluon.loss.SigmoidBinaryCrossEntropyLoss(from_sigmoid=True)"
   ]
  },
  {
   "cell_type": "markdown",
   "metadata": {},
   "source": [
    "## 4. Training"
   ]
  },
  {
   "cell_type": "code",
   "execution_count": 12,
   "metadata": {},
   "outputs": [],
   "source": [
    "ctx = mx.gpu()\n",
    "n_iters = 10\n",
    "batch_size = 16\n",
    "\n",
    "eval_size = 500\n",
    "support_size = 16\n",
    "top_k = 3\n",
    "\n",
    "from_scratch = True\n",
    "model_path = os.path.join(root_path, \"siamese_checkpoints\")"
   ]
  },
  {
   "cell_type": "code",
   "execution_count": 13,
   "metadata": {},
   "outputs": [],
   "source": [
    "net = Siamese()"
   ]
  },
  {
   "cell_type": "code",
   "execution_count": 14,
   "metadata": {},
   "outputs": [],
   "source": [
    "if from_scratch: \n",
    "    net.collect_params().initialize(mx.init.Xavier(),ctx=ctx)\n",
    "else:\n",
    "    ckpt_name = os.path.join(model_path, \"siamese_net_80.params\")\n",
    "    net.load_params(ckpt_name, ctx=ctx)"
   ]
  },
  {
   "cell_type": "code",
   "execution_count": 16,
   "metadata": {},
   "outputs": [],
   "source": [
    "trainer = gluon.Trainer(net.collect_params(), 'sgd', {'learning_rate': 0.0003, 'wd': 0.001})"
   ]
  },
  {
   "cell_type": "code",
   "execution_count": 17,
   "metadata": {
    "scrolled": true
   },
   "outputs": [
    {
     "name": "stdout",
     "output_type": "stream",
     "text": [
      "iteration 0, training loss: 0.6743,\n",
      "iteration 0, top-1 accuracy: 14.6000%, top-3 accuracy: 44.8000%\n",
      "iteration 5, training loss: 0.8142,\n"
     ]
    }
   ],
   "source": [
    "loss_every = 5\n",
    "eval_every = 5000\n",
    "cnt = 0\n",
    "best = 99\n",
    "\n",
    "loss_train = []\n",
    "acc_eval = []\n",
    "acc_topk_eval = []\n",
    "\n",
    "for i in range(n_iters):\n",
    "    img0, img1, targets = loader.get_batch(batch_size=batch_size) \n",
    "    img0 = img0.as_in_context(ctx)\n",
    "    img1 = img1.as_in_context(ctx)\n",
    "    targets = targets.as_in_context(ctx)\n",
    "    with autograd.record():\n",
    "        preds = net(img0, img1)\n",
    "        loss = ce_loss(preds, targets)        \n",
    "    loss.backward()          \n",
    "    trainer.step(batch_size)\n",
    "    \n",
    "    tr_loss = nd.mean(loss).asscalar()\n",
    "    loss_train.append(tr_loss)\n",
    "    \n",
    "    if i % loss_every == 0:\n",
    "        print(\"iteration {}, training loss: {:.4f},\".format(i, tr_loss))\n",
    "        \n",
    "    if i % eval_every == 0:\n",
    "        val_acc, val_acc_topk = loader.evaluate_accuracy(net,eval_size, support_size, ctx, top_k=top_k)\n",
    "        print(\"iteration {}, top-1 accuracy: {:.4f}%, top-{} accuracy: {:.4f}%\".format(i, val_acc, top_k, val_acc_topk))\n",
    "        acc_eval.append(val_acc)\n",
    "        acc_topk_eval.append(val_acc_topk)\n",
    "        cnt += 1\n",
    "        if val_acc >= best:            \n",
    "            print(\"saving model ---------->\")\n",
    "            best=val_acc\n",
    "            save_name = \"siamese_net_\" + str(cnt) + \".params\"\n",
    "            file_path = os.path.join(model_path, save_name)\n",
    "            net.save_params(file_path)\n",
    "            break"
   ]
  },
  {
   "cell_type": "code",
   "execution_count": 18,
   "metadata": {},
   "outputs": [
    {
     "name": "stdout",
     "output_type": "stream",
     "text": [
      "Params: siamese0_sequential0_conv0_weight: 6400\n",
      "Params: siamese0_sequential0_conv0_bias: 64\n",
      "Params: siamese0_sequential0_conv1_weight: 401408\n",
      "Params: siamese0_sequential0_conv1_bias: 128\n",
      "Params: siamese0_sequential0_conv2_weight: 262144\n",
      "Params: siamese0_sequential0_conv2_bias: 128\n",
      "Params: siamese0_sequential0_conv3_weight: 524288\n",
      "Params: siamese0_sequential0_conv3_bias: 256\n",
      "Params: siamese0_sequential0_dense0_weight: 37748736\n",
      "Params: siamese0_sequential0_dense0_bias: 4096\n",
      "Params: siamese0_dense0_weight: 4096\n",
      "Params: siamese0_dense0_bias: 1\n"
     ]
    },
    {
     "data": {
      "text/plain": [
       "38951745L"
      ]
     },
     "execution_count": 18,
     "metadata": {},
     "output_type": "execute_result"
    }
   ],
   "source": [
    "params = net.collect_params()\n",
    "count_params(params)"
   ]
  },
  {
   "cell_type": "markdown",
   "metadata": {},
   "source": [
    "## 5. Sample Test"
   ]
  },
  {
   "cell_type": "code",
   "execution_count": 18,
   "metadata": {},
   "outputs": [],
   "source": [
    "img0, img1, targets = loader.get_test_batch(support_size)\n",
    "img0 = img0.as_in_context(ctx)\n",
    "img1 = img1.as_in_context(ctx)\n",
    "targets = targets.as_in_context(ctx)"
   ]
  },
  {
   "cell_type": "code",
   "execution_count": 19,
   "metadata": {},
   "outputs": [],
   "source": [
    "score = net(img0, img1)"
   ]
  },
  {
   "cell_type": "code",
   "execution_count": 20,
   "metadata": {},
   "outputs": [],
   "source": [
    "targets_np = targets.asnumpy()\n",
    "score_np = score.asnumpy().flatten()"
   ]
  },
  {
   "cell_type": "code",
   "execution_count": 24,
   "metadata": {},
   "outputs": [],
   "source": [
    "pred_idx = np.argmax(score_np)\n",
    "topk_inds = np.argpartition(score_np, -3)[-3:]\n",
    "preds = np.zeros(support_size,)\n",
    "preds[pred_idx] = 1"
   ]
  },
  {
   "cell_type": "code",
   "execution_count": 26,
   "metadata": {},
   "outputs": [
    {
     "data": {
      "image/png": "[encoded data removed]",
      "text/plain": [
       "<matplotlib.figure.Figure at 0x7ff7f9482390>"
      ]
     },
     "metadata": {},
     "output_type": "display_data"
    },
    {
     "data": {
      "image/png": "[encoded data removed]",
      "text/plain": [
       "<matplotlib.figure.Figure at 0x7ff7f9482e10>"
      ]
     },
     "metadata": {},
     "output_type": "display_data"
    },
    {
     "data": {
      "image/png": "[encoded data removed]",
      "text/plain": [
       "<matplotlib.figure.Figure at 0x7ff7f9217850>"
      ]
     },
     "metadata": {},
     "output_type": "display_data"
    }
   ],
   "source": [
    "# plot the characters which has scores in top-3\n",
    "for j in range(3):\n",
    "    plt.subplot(1,2,1)\n",
    "    plt.imshow(img0[topk_inds[j],0,:,:].T.asnumpy(), cmap='gray'); \n",
    "    plt.subplot(1,2,2)\n",
    "    plt.imshow(img1[topk_inds[j],0,:,:].T.asnumpy(), cmap='gray'); \n",
    "    plt.show()"
   ]
  },
  {
   "cell_type": "code",
   "execution_count": 21,
   "metadata": {},
   "outputs": [
    {
     "data": {
      "text/plain": [
       "array([ 0.,  0.,  0.,  0.,  0.,  0.,  0.,  0.,  0.,  0.,  1.,  0.,  0.,\n",
       "        0.,  0.,  0.], dtype=float32)"
      ]
     },
     "execution_count": 21,
     "metadata": {},
     "output_type": "execute_result"
    }
   ],
   "source": [
    "targets_np"
   ]
  },
  {
   "cell_type": "code",
   "execution_count": 25,
   "metadata": {},
   "outputs": [
    {
     "data": {
      "text/plain": [
       "array([ 0.,  0.,  0.,  0.,  0.,  0.,  0.,  0.,  0.,  0.,  1.,  0.,  0.,\n",
       "        0.,  0.,  0.])"
      ]
     },
     "execution_count": 25,
     "metadata": {},
     "output_type": "execute_result"
    }
   ],
   "source": [
    "preds"
   ]
  },
  {
   "cell_type": "code",
   "execution_count": null,
   "metadata": {},
   "outputs": [],
   "source": []
  }
 ],
 "metadata": {
  "kernelspec": {
   "display_name": "Python 2",
   "language": "python",
   "name": "python2"
  },
  "language_info": {
   "codemirror_mode": {
    "name": "ipython",
    "version": 2
   },
   "file_extension": ".py",
   "mimetype": "text/x-python",
   "name": "python",
   "nbconvert_exporter": "python",
   "pygments_lexer": "ipython2",
   "version": "2.7.12"
  }
 },
 "nbformat": 4,
 "nbformat_minor": 2
}
